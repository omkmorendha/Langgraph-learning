{
 "cells": [
  {
   "cell_type": "code",
   "execution_count": 1,
   "metadata": {},
   "outputs": [],
   "source": [
    "from typing import Annotated\n",
    "from typing_extensions import TypedDict\n",
    "from langgraph.graph import StateGraph\n",
    "from langgraph.graph.message import add_messages"
   ]
  },
  {
   "cell_type": "code",
   "execution_count": 2,
   "metadata": {},
   "outputs": [],
   "source": [
    "class State(TypedDict):\n",
    "    # messages have the type \"list\".\n",
    "    # The add_messages function appends messages to the list, rather than ov`erwriting them\n",
    "    messages: Annotated[list, add_messages]\n",
    "graph_builder = StateGraph(State)"
   ]
  },
  {
   "cell_type": "code",
   "execution_count": 3,
   "metadata": {},
   "outputs": [],
   "source": [
    "from langchain_openai import ChatOpenAI\n",
    "from dotenv import load_dotenv\n",
    "import os\n",
    "\n",
    "load_dotenv()\n",
    "\n",
    "llm = ChatOpenAI(model=\"gpt-4o-mini\")"
   ]
  },
  {
   "cell_type": "code",
   "execution_count": 4,
   "metadata": {},
   "outputs": [],
   "source": [
    "def chatbot(state: State):\n",
    "    return {\"messages\": [llm.invoke(state[\"messages\"])]}"
   ]
  },
  {
   "cell_type": "code",
   "execution_count": 7,
   "metadata": {},
   "outputs": [
    {
     "data": {
      "text/plain": [
       "<langgraph.graph.state.StateGraph at 0x7ff142a77d60>"
      ]
     },
     "execution_count": 7,
     "metadata": {},
     "output_type": "execute_result"
    }
   ],
   "source": [
    "graph_builder.set_entry_point(\"chatbot\")\n",
    "graph_builder.add_node(\"chatbot\", chatbot)\n",
    "graph_builder.set_finish_point(\"chatbot\")"
   ]
  },
  {
   "cell_type": "code",
   "execution_count": 8,
   "metadata": {},
   "outputs": [
    {
     "data": {
      "image/png": "[encoded data removed]",
      "text/plain": [
       "<IPython.core.display.Image object>"
      ]
     },
     "metadata": {},
     "output_type": "display_data"
    }
   ],
   "source": [
    "graph = graph_builder.compile()\n",
    "from IPython.display import Image, display\n",
    "try:\n",
    "    display(Image(graph.get_graph().draw_mermaid_png()))\n",
    "except Exception:\n",
    "    pass"
   ]
  },
  {
   "cell_type": "code",
   "execution_count": null,
   "metadata": {},
   "outputs": [
    {
     "name": "stdout",
     "output_type": "stream",
     "text": [
      "Assistant: Hello! How can I assist you today?\n",
      "Assistant: Hello! How can I assist you today?\n",
      "Assistant: Hello! How can I assist you today?\n",
      "Assistant: Hello! How can I assist you today?\n",
      "Assistant: Langgraph Learning appears to be a concept that combines elements of language learning, possibly using graph-based methods to enhance the process. While there isn't a widely recognized framework or method specifically called \"Langgraph Learning,\" I can provide some insights into how language learning can be enhanced through graph-based techniques.\n",
      "\n",
      "### Potential Concepts of Langgraph Learning\n",
      "\n",
      "1. **Graph-based Language Models**:\n",
      "   - Using graph structures to represent relationships between words, phrases, or concepts can facilitate understanding and learning.\n",
      "   - For instance, semantic graphs can connect synonyms, antonyms, and related words, helping learners see connections and expand their vocabulary.\n",
      "\n",
      "2. **Knowledge Graphs for Language Learning**:\n",
      "   - Knowledge graphs can provide a structured way to present information, where nodes represent concepts and edges represent relationships. This method can help learners visualize and organize new vocabulary within a broader context.\n",
      "   - They can be particularly useful for advanced learners who need to understand idiomatic expressions or cultural references within a language.\n",
      "\n",
      "3. **Interactive Learning Platforms**:\n",
      "   - Platforms utilizing graph-based approaches can allow users to explore language through interactive networks, where they can click on words or phrases to see definitions, examples, and related terms.\n",
      "   - This method encourages active learning and exploration, making the process more engaging.\n",
      "\n",
      "4. **Social Networks for Peer Learning**:\n",
      "   - Leveraging social graph structures where learners can connect with peers based on similar interests or language proficiency can encourage collaborative learning and practice.\n",
      "   - Users can join study groups or find language partners to practice conversational skills.\n",
      "\n",
      "5. **Dependency Parsing**:\n",
      "   - In computational linguistics, parsing sentences as graphs can help learners understand grammatical relationships, such as subject-verb-object structures.\n",
      "   - Tools that visualize these dependencies can aid learners in grasping complex syntactic structures.\n",
      "\n",
      "### Conclusion\n",
      "\n",
      "If Langgraph Learning refers to a specific product, methodology, or system not widely known as of my last update, I might not have that information. However, the ideas outlined above highlight how leveraging graph-based techniques can support and enhance language learning. If you have a particular aspect of Langgraph Learning you want to explore further, please provide more context!\n",
      "Assistant: LangGraph is a framework for training large language models to comprehend and generate complex textual structures and relationships. While the specifics may vary based on context, LangGraph typically refers to modeling linguistic structures in a graph form, allowing for richer representations of language semantics, syntax, and relationships between concepts or entities.\n",
      "\n",
      "### Key Concepts in LangGraph Learning:\n",
      "\n",
      "1. **Graph-Based Representation**: \n",
      "   - Language elements (words, phrases, sentences) are represented as nodes in a graph.\n",
      "   - Edges represent relationships between these elements (e.g., syntactic dependencies, semantic relationships).\n",
      "\n",
      "2. **Contextual Understanding**:\n",
      "   - LangGraph models can analyze how different elements of language relate to each other in context, improving tasks like natural language understanding (NLU) and natural language generation (NLG).\n",
      "\n",
      "3. **Knowledge Graphs**:\n",
      "   - Incorporating external information via knowledge graphs enhances model capabilities, allowing for better reasoning and inference.\n",
      "\n",
      "4. **Relation Extraction**:\n",
      "   - The framework can be used for extracting relationships from texts, which is useful in constructing knowledge bases or improving question-answering systems.\n",
      "\n",
      "5. **Training Techniques**:\n",
      "   - LangGraph learning often employs techniques from deep learning, such as graph neural networks (GNNs), to train models on large datasets and capture complex relationships.\n",
      "\n",
      "6. **Applications**:\n",
      "   - Text summarization, sentiment analysis, machine translation, dialogue systems, and more.\n",
      "\n",
      "### Learning Process:\n",
      "\n",
      "1. **Data Collection**: Gather text data that reflects the language aspects you want the model to learn.\n",
      "2. **Graph Construction**: Transform the text data into a graph format, defining nodes and edges based on linguistic structures.\n",
      "3. **Model Development**: Utilize deep learning architectures suitable for processing graph data, such as GNNs or transformers.\n",
      "4. **Training**: Train the model on the graph representation using appropriate loss functions to optimize for tasks like relation prediction or text generation.\n",
      "5. **Evaluation and Fine-Tuning**: Evaluate the model’s performance on benchmark datasets and fine-tune as necessary.\n",
      "\n",
      "### Challenges:\n",
      "- **Scalability**: Handling large graphs efficiently.\n",
      "- **Complex Relationships**: Modeling intricate relationships without losing information.\n",
      "- **Data Quality**: Ensuring the underlying data quality to improve the model's performance.\n",
      "\n",
      "### Conclusion:\n",
      "LangGraph learning represents an innovative approach to understanding and processing language through graph structures, significantly enhancing the capability of language models in various applications. As developments in this area continue, it may lead to more sophisticated tools for interacting with and understanding natural language.\n",
      "Assistant: Hello! How can I assist you today?\n",
      "Assistant: Hello! How can I assist you today?\n"
     ]
    }
   ],
   "source": [
    "# Run the chatbot\n",
    "while True:\n",
    "    user_input = input(\"User: \")\n",
    "    if user_input.lower() in [\"quit\", \"exit\", \"q\"]:\n",
    "        print(\"Goodbye!\")\n",
    "        break\n",
    "    for event in graph.stream({\"messages\": [(\"user\", user_input)]}):\n",
    "        for value in event.values():\n",
    "            print(\"Assistant:\", value[\"messages\"][-1].content)"
   ]
  }
 ],
 "metadata": {
  "kernelspec": {
   "display_name": "langgraph",
   "language": "python",
   "name": "python3"
  },
  "language_info": {
   "codemirror_mode": {
    "name": "ipython",
    "version": 3
   },
   "file_extension": ".py",
   "mimetype": "text/x-python",
   "name": "python",
   "nbconvert_exporter": "python",
   "pygments_lexer": "ipython3",
   "version": "3.10.12"
  }
 },
 "nbformat": 4,
 "nbformat_minor": 2
}
